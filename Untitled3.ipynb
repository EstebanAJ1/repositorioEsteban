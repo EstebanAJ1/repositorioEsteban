{
  "nbformat": 4,
  "nbformat_minor": 0,
  "metadata": {
    "colab": {
      "provenance": []
    },
    "kernelspec": {
      "name": "python3",
      "display_name": "Python 3"
    },
    "language_info": {
      "name": "python"
    }
  },
  "cells": [
    {
      "cell_type": "code",
      "execution_count": 17,
      "metadata": {
        "colab": {
          "base_uri": "https://localhost:8080/"
        },
        "id": "7aSKTWoiKQ-H",
        "outputId": "9e5fd742-2eab-4764-bec3-9ef6a0ff003e"
      },
      "outputs": [
        {
          "output_type": "stream",
          "name": "stdout",
          "text": [
            "[[ 0  1  2  3  4]\n",
            " [ 5  6  7  8  9]\n",
            " [10 11 12 13 14]]\n",
            "2\n",
            "int64\n",
            "8\n",
            "<memory at 0x7f0f2fb45a00>\n"
          ]
        },
        {
          "output_type": "execute_result",
          "data": {
            "text/plain": [
              "array([2, 4, 6, 8])"
            ]
          },
          "metadata": {},
          "execution_count": 17
        }
      ],
      "source": [
        "import numpy as np \n",
        "a = np.arange(15).reshape(3,5)\n",
        "print(a)\n",
        "print(a.ndim) # Para ver la dimensión\n",
        "print(a.dtype.name)\n",
        "print(a.itemsize) # tamaño en bytes\n",
        "print(a.data) # para ver la dirección en memoria\n",
        "\n",
        "# Las matrices son más rápidas y compactas, gastan menos memoria también.\n",
        "\n",
        "np.arange(2,9,2) #NO incluye el ultimo valor, por ejemplo el 9, (desde donde, hasta donde, de cuento en cuanto) \n"
      ]
    },
    {
      "cell_type": "code",
      "source": [
        "np.linspace(0,10,num=5) "
      ],
      "metadata": {
        "colab": {
          "base_uri": "https://localhost:8080/"
        },
        "id": "csDL8NJ5PF-2",
        "outputId": "a35c71d9-d443-4227-a482-654f65cd5f3a"
      },
      "execution_count": 13,
      "outputs": [
        {
          "output_type": "execute_result",
          "data": {
            "text/plain": [
              "array([ 0. ,  2.5,  5. ,  7.5, 10. ])"
            ]
          },
          "metadata": {},
          "execution_count": 13
        }
      ]
    },
    {
      "cell_type": "code",
      "source": [
        "c = np.array([[1,2],[3,4]], dtype=complex)\n",
        "print(c)"
      ],
      "metadata": {
        "colab": {
          "base_uri": "https://localhost:8080/"
        },
        "id": "94qqtJ1-LdFT",
        "outputId": "c46af020-d56b-4d4c-8268-5e759fbc569b"
      },
      "execution_count": 5,
      "outputs": [
        {
          "output_type": "stream",
          "name": "stdout",
          "text": [
            "[[1.+0.j 2.+0.j]\n",
            " [3.+0.j 4.+0.j]]\n"
          ]
        }
      ]
    },
    {
      "cell_type": "code",
      "source": [
        "# Ordenar un elemento\n",
        "# sort()\n",
        "l = np.array([2,1,3,5,4,6,8,0])\n",
        "np.sort(l)\n"
      ],
      "metadata": {
        "colab": {
          "base_uri": "https://localhost:8080/"
        },
        "id": "2pIeWf0JPlIF",
        "outputId": "7967d5b5-00e5-4a1b-b8ad-7689827d2eda"
      },
      "execution_count": 20,
      "outputs": [
        {
          "output_type": "execute_result",
          "data": {
            "text/plain": [
              "array([0, 1, 2, 3, 4, 5, 6, 8])"
            ]
          },
          "metadata": {},
          "execution_count": 20
        }
      ]
    },
    {
      "cell_type": "code",
      "source": [
        "#Para concatenar se usa el concatenate()\n",
        "x = np.array([[1,2],[3,4]])\n",
        "y = np.array([[5,6]])\n",
        "np.concatenate((x,y))\n",
        "\n",
        "a = np.add(x,y) # suma los arrays\n",
        "b = np.sum(y) # suma el interior de las listas (solo un argumento es dado)\n",
        "print(a)\n",
        "print(b)"
      ],
      "metadata": {
        "colab": {
          "base_uri": "https://localhost:8080/"
        },
        "id": "kvJrdsQSRYf-",
        "outputId": "5aa1d8a1-d0c7-4fae-a2a2-3362957ff3ee"
      },
      "execution_count": 36,
      "outputs": [
        {
          "output_type": "stream",
          "name": "stdout",
          "text": [
            "[[ 6  8]\n",
            " [ 8 10]]\n",
            "11\n"
          ]
        }
      ]
    },
    {
      "cell_type": "code",
      "source": [
        "np.concatenate((x,y), axis=0)"
      ],
      "metadata": {
        "colab": {
          "base_uri": "https://localhost:8080/"
        },
        "id": "i0qv5OzuR0oN",
        "outputId": "ac4383a6-4ca3-428a-9147-6e8cb8145147"
      },
      "execution_count": 22,
      "outputs": [
        {
          "output_type": "execute_result",
          "data": {
            "text/plain": [
              "array([[1, 2],\n",
              "       [3, 4],\n",
              "       [5, 6]])"
            ]
          },
          "metadata": {},
          "execution_count": 22
        }
      ]
    },
    {
      "cell_type": "code",
      "source": [
        "np.random.random()"
      ],
      "metadata": {
        "colab": {
          "base_uri": "https://localhost:8080/"
        },
        "id": "7Yro01hYXszU",
        "outputId": "eb123b07-1c85-4212-f223-c3f94a39875f"
      },
      "execution_count": 25,
      "outputs": [
        {
          "output_type": "execute_result",
          "data": {
            "text/plain": [
              "0.24386559744630687"
            ]
          },
          "metadata": {},
          "execution_count": 25
        }
      ]
    },
    {
      "cell_type": "code",
      "source": [
        "np.random.random(1)"
      ],
      "metadata": {
        "colab": {
          "base_uri": "https://localhost:8080/"
        },
        "id": "W-8bmYTPXxwZ",
        "outputId": "76374b7c-5908-4817-a153-2faba47ee6d7"
      },
      "execution_count": 27,
      "outputs": [
        {
          "output_type": "execute_result",
          "data": {
            "text/plain": [
              "array([0.87475787])"
            ]
          },
          "metadata": {},
          "execution_count": 27
        }
      ]
    },
    {
      "cell_type": "code",
      "source": [
        "np.random.random(2)"
      ],
      "metadata": {
        "colab": {
          "base_uri": "https://localhost:8080/"
        },
        "id": "zLSpDUG9XKsr",
        "outputId": "8c05db11-0b0a-4dba-c575-192cd0b85227"
      },
      "execution_count": 24,
      "outputs": [
        {
          "output_type": "execute_result",
          "data": {
            "text/plain": [
              "array([0.05877617, 0.77378333])"
            ]
          },
          "metadata": {},
          "execution_count": 24
        }
      ]
    },
    {
      "cell_type": "code",
      "source": [
        "np.random.random(3)"
      ],
      "metadata": {
        "colab": {
          "base_uri": "https://localhost:8080/"
        },
        "id": "_otFx2DfXuYZ",
        "outputId": "8835334b-92f2-41b2-9316-428335a6ba12"
      },
      "execution_count": 26,
      "outputs": [
        {
          "output_type": "execute_result",
          "data": {
            "text/plain": [
              "array([0.04943757, 0.96807804, 0.89575629])"
            ]
          },
          "metadata": {},
          "execution_count": 26
        }
      ]
    }
  ]
}